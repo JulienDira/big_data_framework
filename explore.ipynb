{
 "cells": [
  {
   "cell_type": "code",
   "execution_count": 4,
   "id": "6b4b20cf",
   "metadata": {},
   "outputs": [
    {
     "name": "stdout",
     "output_type": "stream",
     "text": [
      "Écrit : transactions_data_part1.csv (3326479 lignes)\n",
      "Écrit : transactions_data_part2.csv (3326479 lignes)\n",
      "Écrit : transactions_data_part3.csv (3326479 lignes)\n",
      "Écrit : transactions_data_part4.csv (3326478 lignes)\n"
     ]
    }
   ],
   "source": [
    "import json\n",
    "import pandas as pd\n",
    "import csv\n",
    "\n",
    "def split_csv(file_path, output_prefix, num_parts=4):\n",
    "    # Lire toutes les lignes du CSV\n",
    "    with open(file_path, newline='', encoding='utf-8') as csvfile:\n",
    "        reader = list(csv.reader(csvfile))\n",
    "        header = reader[0]\n",
    "        rows = reader[1:]\n",
    "\n",
    "    total_rows = len(rows)\n",
    "    part_size = total_rows // num_parts\n",
    "    remainder = total_rows % num_parts\n",
    "\n",
    "    start = 0\n",
    "    for i in range(num_parts):\n",
    "        # Gérer les lignes restantes pour répartir équitablement\n",
    "        end = start + part_size + (1 if i < remainder else 0)\n",
    "        part_rows = rows[start:end]\n",
    "        start = end\n",
    "\n",
    "        output_file = f\"{output_prefix}_part{i+1}.csv\"\n",
    "        with open(output_file, 'w', newline='', encoding='utf-8') as out_csv:\n",
    "            writer = csv.writer(out_csv)\n",
    "            writer.writerow(header)\n",
    "            writer.writerows(part_rows)\n",
    "\n",
    "        print(f\"Écrit : {output_file} ({len(part_rows)} lignes)\")\n",
    "\n",
    "split_csv('./datasource/to_db/transactions_data.csv', \"transactions_data\")"
   ]
  },
  {
   "cell_type": "code",
   "execution_count": 2,
   "id": "ca52b90e",
   "metadata": {},
   "outputs": [
    {
     "name": "stdout",
     "output_type": "stream",
     "text": [
      "✅ Données transformées et enregistrées dans : ./datasource/mcc_codes.json\n"
     ]
    }
   ],
   "source": [
    "import json\n",
    "\n",
    "def convert_json_to_list_with_columns(input_path, output_path):\n",
    "    # Lire le fichier JSON d'entrée\n",
    "    with open(input_path, 'r') as f:\n",
    "        data = json.load(f)\n",
    "\n",
    "    # Transformer en liste de dictionnaires avec colonnes \"id\" et \"item\"\n",
    "    new_data = [{\"id\": key, \"item\": value} for key, value in data.items()]\n",
    "\n",
    "    # Écrire dans un nouveau fichier JSON\n",
    "    with open(output_path, 'w') as f:\n",
    "        json.dump(new_data, f, indent=4)\n",
    "\n",
    "    print(f\"✅ Données transformées et enregistrées dans : {output_path}\")\n",
    "\n",
    "\n",
    "convert_json_to_list_with_columns('./datasource/mcc_codes.json', './datasource/mcc_codes.json')"
   ]
  },
  {
   "cell_type": "markdown",
   "id": "91c96846",
   "metadata": {},
   "source": []
  },
  {
   "cell_type": "code",
   "execution_count": null,
   "id": "def1eb86",
   "metadata": {},
   "outputs": [],
   "source": []
  }
 ],
 "metadata": {
  "kernelspec": {
   "display_name": ".venv",
   "language": "python",
   "name": "python3"
  },
  "language_info": {
   "codemirror_mode": {
    "name": "ipython",
    "version": 3
   },
   "file_extension": ".py",
   "mimetype": "text/x-python",
   "name": "python",
   "nbconvert_exporter": "python",
   "pygments_lexer": "ipython3",
   "version": "3.12.10"
  }
 },
 "nbformat": 4,
 "nbformat_minor": 5
}
